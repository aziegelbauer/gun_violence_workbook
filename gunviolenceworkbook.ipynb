{
 "cells": [
  {
   "cell_type": "code",
   "execution_count": 37,
   "metadata": {},
   "outputs": [],
   "source": [
    "#imports libraries and csv file\n",
    "import pandas as pd\n",
    "import datetime as dt\n",
    "import numpy as np\n",
    "import re\n",
    "df = pd.read_csv('gun-violence-data_01-2013_03-2018.csv', index_col=None)\n",
    "\n",
    "#displays 500 rows before auto collapsing - used for visual analysis\n",
    "#pd.set_option('display.max_rows', 5000)"
   ]
  },
  {
   "cell_type": "markdown",
   "metadata": {},
   "source": [
    "## Data Wrangling\n",
    "This dataset was downloaded from kaggle: https://www.kaggle.com/jameslko/gun-violence-data. Dataset issues were found both visually and programmatically, and are listed below.  The most common issue found in this dataset is that of multiple values within each cell. Since most of the categories had overlap, and one event could have many delineations of each category, I created single categorical columns with binary operators in order to parse data within cells.\n",
    "\n",
    "## Assess:\n",
    "\n",
    "#### Data Quality\n",
    "- Date is an object datatype and n_guns_involved, state_house_district, state_senate_district, and congressional_district are a floats\n",
    "- There is no total injured/killed column\n",
    "- There is no total injured, killed, arrested, or unharmed column\n",
    "- city_or_county and participant_status have extra characters \n",
    "- unneccessary columns (and unwanted personal info): participant_age_group, participant_name, address, and incident_url_fields_missing\n",
    "- participant_age column has extra characters\n",
    "\n",
    "#### Data Tidyness\n",
    "- city_or_county involved two kinds of data in one column.\n",
    "- participant_status has \"arrested\", \"injured\", \"killed\" and \"unharmed\" in one column - cells have multiple entries.\n",
    "- gun_stolen column has data for stolen, unknown, and not stolen in one column.\n",
    "- participant_gender has many entries in each column of both genders\n",
    "- participant_type has multiple entries of information for victim and suspect/subject in one column\n",
    "- participant_relationship has many delineations within it\n",
    "- gun_types have many kinds of data within column\n",
    "- incident_characteristics has many kind os data in one column\n",
    "- dataframe has too much information to be in one file. \n",
    "- create date columns\n",
    "\n",
    "\n",
    "_______________________\n",
    "\n",
    "The end result of the dataframe will be split into three separate files. Each will including different data, but will retain the incident_id column for the capability to merge or join later. Each column created will be added to a correctly named copy of the original dataframe, and the appropriate columns will be dropped at the end. The dataframes will contain information on the following\n",
    "1. df_general - general information about the event\n",
    "2. df_people - information about the people involved\n",
    "3. df_gun - information about the guns used in the crime\n",
    "\n",
    "##### df_general:\n",
    "- incident_id\n",
    "- date\n",
    "- day\n",
    "- month\n",
    "- year\n",
    "- state\n",
    "- city\n",
    "- county\n",
    "- incident_url\n",
    "- source_url\n",
    "- congressional_district\n",
    "- state_house_district\n",
    "- state_senate_district\n",
    "- latitude\n",
    "- longitude\n",
    "- location_description\n",
    "- notes\n",
    "- participant name\n",
    "- sources\n",
    "\n",
    "##### df_people:\n",
    "- incident_id\n",
    "- incident_characteristics\n",
    "- n_killed\n",
    "- n_injured\n",
    "- participant_age\n",
    "- participant_relationship\n",
    "- victim\n",
    "- suspect\n",
    "- male\n",
    "- female\n",
    "- unharmed_arrested\n",
    "- unharmed\n",
    "- arrested\n",
    "- total_killed_injured\n",
    "- total_involved\n",
    "- relationship_significant_other\n",
    "- relationship_mass_shooting_known\n",
    "- relationship_family\n",
    "- relationship_friend\n",
    "- relationship_home_invasion_known\n",
    "- relationship_coworker\n",
    "- relationship_aquaintance\n",
    "- relationship_neighbor\n",
    "- incident_shot\n",
    "- incident_driveby\n",
    "- incident_tsa\n",
    "- incident_nonshooting\n",
    "- incident_domestic\n",
    "- incident_standoff\n",
    "- incident_gang\n",
    "- incident_carjacking\n",
    "- incident_suicide\n",
    "- incident_murdersuicide\n",
    "- incident_accident\n",
    "- incident_homeinvasion\n",
    "- incident_school\n",
    "- incident_massshooting\n",
    "- incident_animal\n",
    "- incident_roadrage\n",
    "- incident_abduction\n",
    "- incident_defensive\n",
    "- incident_sexcrime\n",
    "- incident_spree\n",
    "- incident_hatecrime\n",
    "- incident_policetarget\n",
    "- incident_institution\n",
    "- incident_armed_robbery\n",
    "- involved_child\n",
    "- involved_drug_alcohol\n",
    "\n",
    "##### df_gun:\n",
    "- incident_id\n",
    "- gun_handgun\n",
    "- gun_shotgun\n",
    "- gun_rifle\n",
    "- gun_stolen\n",
    "- n_guns_involved\n",
    "- ghost_gun"
   ]
  },
  {
   "cell_type": "markdown",
   "metadata": {},
   "source": [
    "## Clean"
   ]
  },
  {
   "cell_type": "code",
   "execution_count": 38,
   "metadata": {},
   "outputs": [],
   "source": [
    "#creates copy of df\n",
    "df_general = df.copy()\n",
    "df_gun = df.copy()\n",
    "df_people = df.copy()"
   ]
  },
  {
   "cell_type": "markdown",
   "metadata": {},
   "source": [
    "### Datatypes Fixes\n",
    "- Change date column to datetime and n_guns_involved, state_house_district, state_senate_district, and congressional_district columns to objects"
   ]
  },
  {
   "cell_type": "code",
   "execution_count": 39,
   "metadata": {},
   "outputs": [],
   "source": [
    "#changes datatypes\n",
    "df_general['date'] = pd.to_datetime(df_general['date'])\n",
    "df_general['state_house_district'] = df_general['state_house_district'].astype(object)\n",
    "df_general['state_senate_district'] = df_general['state_senate_district'].astype(object)\n",
    "df_general['congressional_district'] = df_general['congressional_district'].astype(object)\n",
    "df_gun['n_guns_involved'] = df_gun['n_guns_involved'].astype(object)"
   ]
  },
  {
   "cell_type": "markdown",
   "metadata": {},
   "source": [
    "### Create Date Columns\n",
    "- create day, month, and year columns in df_general"
   ]
  },
  {
   "cell_type": "code",
   "execution_count": 81,
   "metadata": {},
   "outputs": [],
   "source": [
    "#creates columns \n",
    "df_general['month'] = df_general['date'].dt.month\n",
    "df_general['day'] = df_general['date'].dt.day\n",
    "df_general['year'] = df_general['date'].dt.year"
   ]
  },
  {
   "cell_type": "markdown",
   "metadata": {},
   "source": [
    "### Column Fixes\n",
    "#### Column Fixes - County\n",
    "- split city_or_county into two columns and get rid of extra characters."
   ]
  },
  {
   "cell_type": "code",
   "execution_count": 40,
   "metadata": {},
   "outputs": [],
   "source": [
    "#creates new column - county\n",
    "df_general['county'] = df_general.loc[df_general['city_or_county'].str.contains('county', case=False), 'city_or_county']\n",
    "#renames city or country column to city\n",
    "df_general.rename(columns={'city_or_county': 'city'}, inplace=True)"
   ]
  },
  {
   "cell_type": "code",
   "execution_count": 41,
   "metadata": {},
   "outputs": [],
   "source": [
    "#extracts extra characters\n",
    "df_general['county'] = df_general['county'].str.lower()\n",
    "df_general['county'] = df_general['county'].str.replace('\\(|\\)', '')\n",
    "df_general['county'] = df_general['county'].str.replace('county county', 'county')"
   ]
  },
  {
   "cell_type": "markdown",
   "metadata": {},
   "source": [
    "#### Column Fixes - participant_type\n",
    "- Split column into two columns: \"victim\" and \"suspect\" and drop original column"
   ]
  },
  {
   "cell_type": "code",
   "execution_count": 42,
   "metadata": {},
   "outputs": [],
   "source": [
    "#changes str to lower case\n",
    "df_people['participant_type'] = df_people['participant_type'].str.lower()\n",
    "#creates new columns for participant_types\n",
    "df_people['victim'] = df_people.participant_type.str.count('victim').astype(object)\n",
    "df_people['suspect'] = df_people.participant_type.str.count('Subject-Suspect').astype(object)\n",
    "df_people = df_people.drop(columns = ['participant_type'])"
   ]
  },
  {
   "cell_type": "markdown",
   "metadata": {},
   "source": [
    "#### Column Fixes - participant_gender\n",
    "- Split into separate columns (\"male\" and \"female\") with count of each gender, and drop original column."
   ]
  },
  {
   "cell_type": "code",
   "execution_count": 43,
   "metadata": {},
   "outputs": [],
   "source": [
    "#changes str to lower case\n",
    "df_people['participant_gender'] = df_people['participant_gender'].str.lower()\n",
    "#creates new columns for gender\n",
    "df_people['male'] = df_people.participant_gender.str.count('male').astype(object)\n",
    "df_people['female'] = df_people.participant_gender.str.count('female').astype(object)\n",
    "df_people = df_people.drop(columns = ['participant_gender'])"
   ]
  },
  {
   "cell_type": "markdown",
   "metadata": {},
   "source": [
    "#### Column Fixes - participant_status\n",
    "- Split into columns \"unharmed\" and \"arrested\" with count of each type, and drop original column. \n",
    "- Creates total_involved and total_killed_injured columns"
   ]
  },
  {
   "cell_type": "code",
   "execution_count": 44,
   "metadata": {},
   "outputs": [],
   "source": [
    "#changes str to lower case\n",
    "df_people['participant_status'] = df_people['participant_status'].str.lower()\n",
    "#makes column for unharmed/arrested\n",
    "df_people['unharmed_arrested'] = df_people.participant_status.str.count('unharmed, arrested')\n",
    "#creates columns for singular accounts or unharmed and arrested\n",
    "df_people['unharmed'] = df_people.participant_status.str.count('unharmed')\n",
    "df_people['arrested'] = df_people.participant_status.str.count('arrested')"
   ]
  },
  {
   "cell_type": "code",
   "execution_count": 45,
   "metadata": {},
   "outputs": [],
   "source": [
    "#subtracts duplicates\n",
    "df_people['arrested'] = df_people.arrested - df_people.unharmed_arrested\n",
    "df_people['unharmed'] = df_people.unharmed - df_people.unharmed_arrested\n",
    "#drops unneccesary column\n",
    "df_people.drop(columns=['participant_status'], inplace=True)"
   ]
  },
  {
   "cell_type": "code",
   "execution_count": 46,
   "metadata": {},
   "outputs": [],
   "source": [
    "#adds those killed and injured into total_affected column\n",
    "df_people['total_killed_injured'] = df_people.n_killed + df_people.n_injured\n",
    "df_people['total_involved'] = df_people.n_killed + df_people.n_injured + df_people.arrested + df_people.unharmed + df_people.unharmed_arrested"
   ]
  },
  {
   "cell_type": "code",
   "execution_count": 47,
   "metadata": {},
   "outputs": [],
   "source": [
    "#change datatypes\n",
    "df_people['arrested'] = df_people['arrested'].astype(object)\n",
    "df_people['unharmed'] = df_people['unharmed'].astype(object)\n",
    "df_people['unharmed_arrested'] = df_people['unharmed_arrested'].astype(object)\n",
    "df_people['total_killed_injured'] = df_people['total_killed_injured'].astype(object)\n",
    "df_people['total_involved'] = df_people['total_involved'].astype(object)"
   ]
  },
  {
   "cell_type": "markdown",
   "metadata": {},
   "source": [
    "#### Column Fixes - gun_type\n",
    "- Sort into types and then create three new columns for each type.\n",
    "\n",
    "There were many kinds of guns included in this dataset. Each type was found by visually looking through column. Each type was then researched and ammalgamated into \"handgun\", \"shotgun\", and \"rifle\". There were some types that did not have enough information to sort them into a gun type. Those delineations are listed below, and were not retained in the final version of df_gun.\n",
    "\n",
    "Gun Types sorted:\n",
    "- handgun\n",
    "- shotgun\n",
    "- rifle (includes semis)\n",
    "- 223 Rem (AR-15) - rifle\n",
    "- 7.62 (AK-47) - rifle\n",
    "- 10mm - handgun\n",
    "- 32 auto - handgun\n",
    "- 380 auto - handgun\n",
    "- 45 auto - handgun\n",
    "- 25 auto - handgun\n",
    "- 357 mag - handgun\n",
    "- 12 gauge - shotgun\n",
    "- 16 gauge - shotgun\n",
    "- 20 gauge - shotgun\n",
    "- 28 gauge - shotgun\n",
    "- 410 gauge - shotgun\n",
    "- 40 sw - handgun\n",
    "- 30-30 win - rifle\n",
    "- 308 win - rifle\n",
    "- 300 win - rifle\n",
    "\n",
    "Gun Types left out of df:\n",
    "- 9mm - caliber\n",
    "- 22 LR - caliber\n",
    "- 30-06 spr - rifle/machine gun\n",
    "- 44 mag - revolver and rifle and carbines\n",
    "- 38 spl - revolver, carbines, and pistol - sometimes semi)\n",
    "- unknown - should be NaN\n",
    "- other - should be NaN"
   ]
  },
  {
   "cell_type": "code",
   "execution_count": 48,
   "metadata": {},
   "outputs": [],
   "source": [
    "#changes column case\n",
    "df_gun['gun_type'] = df_gun['gun_type'].str.lower()\n",
    "#creates gun type columns to keep\n",
    "df_gun['gun_handgun'] = df_gun.gun_type.str.count('handgun')\n",
    "df_gun['gun_shotgun'] = df_gun.gun_type.str.count('shotgun')\n",
    "df_gun['gun_rifle'] = df_gun.gun_type.str.count('rifle')\n",
    "#creates interim gun type columns\n",
    "df_gun['3030win'] = df_gun.gun_type.str.count('30-30 win')\n",
    "df_gun['300win'] = df_gun.gun_type.str.count('308 win')\n",
    "df_gun['308win'] = df_gun.gun_type.str.count('308 win')\n",
    "df_gun['ar'] = df_gun.gun_type.str.count('ar-15')\n",
    "df_gun['ak'] = df_gun.gun_type.str.count('ak-47')\n",
    "df_gun['10mm'] = df_gun.gun_type.str.count('10mm')\n",
    "df_gun['32auto'] = df_gun.gun_type.str.count('32 auto')\n",
    "df_gun['380auto'] = df_gun.gun_type.str.count('380 auto')\n",
    "df_gun['45auto'] = df_gun.gun_type.str.count('45 auto')\n",
    "df_gun['25auto'] = df_gun.gun_type.str.count('25 auto')\n",
    "df_gun['357mag'] = df_gun.gun_type.str.count('357 mag')\n",
    "df_gun['40sw'] = df_gun.gun_type.str.count('40 sw')\n",
    "df_gun['12gauge'] = df_gun.gun_type.str.count('12 gauge')\n",
    "df_gun['16gauge'] = df_gun.gun_type.str.count('16 gauge')\n",
    "df_gun['20gauge'] = df_gun.gun_type.str.count('20 gauge')\n",
    "df_gun['28gauge'] = df_gun.gun_type.str.count('28 gauge')\n",
    "df_gun['410gauge'] = df_gun.gun_type.str.count('410 gauge')"
   ]
  },
  {
   "cell_type": "code",
   "execution_count": 49,
   "metadata": {},
   "outputs": [],
   "source": [
    "#changes interim columns into aggregated columns\n",
    "df_gun['gun_shotgun'] = df_gun['gun_shotgun'] + df_gun['410gauge'] + df_gun['28gauge'] + df_gun['20gauge'] +  df_gun['16gauge'] + df_gun['12gauge']\n",
    "df_gun['gun_rifle'] = df_gun['gun_rifle'] + df_gun['3030win'] + df_gun['300win'] + df_gun['308win'] + df_gun['ar'] + df_gun['ak']\n",
    "df_gun['gun_handgun'] = df_gun['gun_handgun'] + df_gun['40sw'] + df_gun['357mag'] + df_gun['25auto'] + df_gun['45auto'] + df_gun['380auto'] + df_gun['32auto'] + df_gun['10mm']"
   ]
  },
  {
   "cell_type": "code",
   "execution_count": 50,
   "metadata": {},
   "outputs": [],
   "source": [
    "#drop interim columns\n",
    "df_gun.drop(columns=['gun_type', '3030win', '300win', '308win', 'ak', 'ar', '10mm', '32auto', '380auto', '45auto', '25auto', '357mag', '40sw', '12gauge', '16gauge', '20gauge', '28gauge', '410gauge'], inplace=True)"
   ]
  },
  {
   "cell_type": "code",
   "execution_count": 51,
   "metadata": {},
   "outputs": [],
   "source": [
    "#changes datatypes \n",
    "df_gun['gun_shotgun'] = df_gun['gun_shotgun'].astype(object)\n",
    "df_gun['gun_rifle'] = df_gun['gun_rifle'].astype(object)\n",
    "df_gun['gun_handgun'] = df_gun['gun_handgun'].astype(object)"
   ]
  },
  {
   "cell_type": "markdown",
   "metadata": {},
   "source": [
    "#### Column Fixes - gun_stolen\n",
    "- Splits into separate columns: stolen, not-stolen, and unknown, and drops original column."
   ]
  },
  {
   "cell_type": "code",
   "execution_count": 52,
   "metadata": {},
   "outputs": [],
   "source": [
    "# changes column case\n",
    "df_gun['gun_stolen'] = df_gun['gun_stolen'].str.lower()\n",
    "#creates interim columns for gun delineations\n",
    "df_gun['unknown_stolen'] = df_gun.gun_stolen.str.count('unknown')\n",
    "df_gun['stolen_gun'] = df_gun.gun_stolen.str.count('stolen')\n",
    "df_gun['not_stolen'] = df_gun.gun_stolen.str.count('not-stolen')\n",
    "df_gun['gun_stolen'] = df_gun['stolen_gun']"
   ]
  },
  {
   "cell_type": "code",
   "execution_count": 53,
   "metadata": {},
   "outputs": [],
   "source": [
    "#changes datatypes\n",
    "df_gun['unknown_stolen'] = df_gun['unknown_stolen'].astype(object)\n",
    "df_gun['gun_stolen'] = df_gun['gun_stolen'].astype(object)\n",
    "df_gun['not_stolen'] = df_gun['not_stolen'].astype(object)\n",
    "#drops interim columns\n",
    "df_gun.drop(columns=['stolen_gun', 'unknown_stolen', 'not_stolen'], inplace=True)"
   ]
  },
  {
   "cell_type": "markdown",
   "metadata": {},
   "source": [
    "#### Column Fixes - participant_relationship\n",
    "- Splits column into several by type of relationship, and drops original column. Relationships left out that are later delineated by incident_type (below).\n",
    "\n",
    "Relationship_status in df:\n",
    "- significant other - current or former\n",
    "- armed robbery - data also in incident characteristics\n",
    "- mass shooting - perp knows victims \n",
    "- mass shooting - random victims - data also in incident characteristics\n",
    "- family\n",
    "- friends\n",
    "- home invasion - perp knows victims\n",
    "- home invasion - perp doesn't know victims - data also in incident characteristics\n",
    "- gang vs gang - data also in incident characteristics\n",
    "- co-worker\n",
    "- aquaintance\n",
    "- neighbor\n",
    "- drive by - random victims - data also in incident characteristics"
   ]
  },
  {
   "cell_type": "code",
   "execution_count": 54,
   "metadata": {},
   "outputs": [],
   "source": [
    "#changes case\n",
    "df_people['participant_relationship'] = df_people['participant_relationship'].str.lower()\n",
    "#splits relationships into separate colums\n",
    "df_people['relationship_significant_other'] = df_people.participant_relationship.str.count('significant other').astype(object)\n",
    "df_people['relationship_mass_shooting_known'] = df_people.participant_relationship.str.count('mass shooting - perp').astype(object)\n",
    "df_people['relationship_family'] = df_people.participant_relationship.str.count('family').astype(object)\n",
    "df_people['relationship_friend'] = df_people.participant_relationship.str.count('friend').astype(object)\n",
    "df_people['relationship_home_invasion_known'] = df_people.participant_relationship.str.count('home invasion - - perp knows').astype(object)\n",
    "df_people['relationship_coworker'] = df_people.participant_relationship.str.count('co-worker').astype(object)\n",
    "df_people['relationship_aquaintance'] = df_people.participant_relationship.str.count('aquaintance').astype(object)\n",
    "df_people['relationship_neighbor'] = df_people.participant_relationship.str.count('neighbor').astype(object)\n",
    "df_people.drop(columns=['participant_relationship'], inplace=True)"
   ]
  },
  {
   "cell_type": "markdown",
   "metadata": {},
   "source": [
    "#### Column Fixes - incident characteristics\n",
    "- Splits column into many by type of incident, and drops original column. Some incidents were not added to the final version of the df because of specificity and overlap. There were some incident types that were listed multiple times - extra code was written below to avoid this issue for those columns.\n",
    "\n",
    "Incidents included in final df:\n",
    "- Institution/Group/Business\n",
    "- Armed robbery\n",
    "- alcohol or drugs\n",
    "- shot\n",
    "- drive by\n",
    "- TSA Action\n",
    "- Non shooting incident\n",
    "- Domestic Violence\n",
    "- standoff\n",
    "- Gang\n",
    "- Car-jacking\n",
    "- suicide\n",
    "- murder/suicide\n",
    "- accident\n",
    "- Home Invasion\n",
    "- School Incident\n",
    "- Mass Shooting\n",
    "- Animal shot/killed\n",
    "- Road rage\n",
    "- child involved\n",
    "- Kidnapping/abductions/hostage\n",
    "- defensive use\n",
    "- sex crime\n",
    "- spree shooting\n",
    "- hate crime\n",
    "- police targeted\n",
    "- ghost gun *(should be in gun_type)\n",
    "\n",
    "\n",
    "Incidents not included in final df:\n",
    "- Possession (found at other crimes)\n",
    "- ATF/LE Confiscation/Raid/Arrest\n",
    "- Brandishing/flourishing/open carry/lost/found\n",
    "- Officer Involved Incident\n",
    "- Officer Involved Shooting - subject/suspect/perpetrator killed \n",
    "- officer involved shooting - subject/suspect/perpetrator suicide by cop\n",
    "- officer involved shooting - subject/suspect/perpetrator suicide at \n",
    "- Gun(s) stolen from owner\n",
    "- Shots fired, no action (reported, no evidence found)\n",
    "- ShotSpotter\n",
    "- subject/suspect/perpetrator, one location)\n",
    "- Implied Weapon\n",
    "- LOCKDOWN/ALERT ONLY: No GV Incident Occurred Onsite\n",
    "- Pistol-whipping\n",
    "- BB/Pellet/Replica gun\n",
    "- Assault weapon (AR-15, AK-47, and ALL variants defined by law enforcement)\n",
    "- hunting accident\n",
    "- playing with gun\n",
    "- Stolen/Illegally owned gun{s} recovered during arrest/warrant\n",
    "- Possession of gun by felon or prohibited person\n",
    "- defensive use - without a gun\n",
    "- Defensive Use - Victim stops crime\n",
    "- defensive use - good samaritan/third party\n",
    "- defensive use - no shots fired\n",
    "- Defensive Use - Shots fired, no injury/death\n",
    "- Defensive Use - Crime occurs, victim shoots subject/suspect/perpetrator\n",
    "- Defensive Use - Stand Your Ground/Castle Doctrine established\n",
    "- self-Inflicted (not suicide or suicide attempt - NO PERP)\n",
    "- Cleaning gun\n",
    "- Guns stolen from law enforcement\n",
    "- Gun buy back action\n",
    "- Thought gun was unloaded\n",
    "- Unlawful purchase/sale\n",
    "- concealed carry license - perpetrator\n",
    "- concealed carry license - victim\n",
    "- non-aggression incident\n",
    "- criminal act with stolen gun"
   ]
  },
  {
   "cell_type": "code",
   "execution_count": 55,
   "metadata": {},
   "outputs": [],
   "source": [
    "#changes case\n",
    "df_people['incident_characteristics'] = df_people['incident_characteristics'].str.lower()\n",
    "#creates new columns\n",
    "df_people['incident_shot'] = df_people.incident_characteristics.str.count('shot')\n",
    "df_people['incident_driveby'] = df_people.incident_characteristics.str.count('drive-by')\n",
    "df_people['incident_tsa'] = df_people.incident_characteristics.str.count('tsa action')\n",
    "df_people['incident_nonshooting'] = df_people.incident_characteristics.str.count('non-shooting')\n",
    "df_people['incident_domestic'] = df_people.incident_characteristics.str.count('domestic violence')\n",
    "df_people['incident_standoff'] = df_people.incident_characteristics.str.count('standoff')\n",
    "df_people['incident_gang'] = df_people.incident_characteristics.str.count('gang')\n",
    "df_people['incident_carjacking'] = df_people.incident_characteristics.str.count('car-jacking')\n",
    "df_people['incident_suicide'] = df_people.incident_characteristics.str.count('suicide')\n",
    "df_people['incident_murdersuicide'] = df_people.incident_characteristics.str.count('murder/suicide')\n",
    "df_people['incident_accident'] = df_people.incident_characteristics.str.count('accident')\n",
    "df_people['incident_homeinvasion'] = df_people.incident_characteristics.str.count('home invasion')\n",
    "df_people['incident_school'] = df_people.incident_characteristics.str.count('school')\n",
    "df_people['incident_massshooting'] = df_people.incident_characteristics.str.count('mass shooting')\n",
    "df_people['incident_animal'] = df_people.incident_characteristics.str.count('animal shot/killed')\n",
    "df_people['incident_roadrage'] = df_people.incident_characteristics.str.count('road rage')\n",
    "df_people['involved_child'] = df_people.incident_characteristics.str.count('child involved')\n",
    "df_people['incident_abduction'] = df_people.incident_characteristics.str.count('kidnapping')\n",
    "df_people['incident_defensive'] = df_people.incident_characteristics.str.count('defensive use')\n",
    "df_people['incident_sexcrime'] = df_people.incident_characteristics.str.count('sex crime')\n",
    "df_people['incident_spree'] = df_people.incident_characteristics.str.count('spree shooting')\n",
    "df_people['incident_hatecrime'] = df_people.incident_characteristics.str.count('hate crime')\n",
    "df_people['incident_policetarget'] = df_people.incident_characteristics.str.count('police targeted')\n",
    "df_gun['ghostgun'] = df_gun.incident_characteristics.str.count('ghost gun')"
   ]
  },
  {
   "cell_type": "code",
   "execution_count": 56,
   "metadata": {},
   "outputs": [],
   "source": [
    "#deletes duplicates for shot column\n",
    "df_people['incident_shot'] = df_people.incident_shot.replace(2.0, 1.0)\n",
    "df_people['incident_shot'] = df_people.incident_shot.replace(3.0, 1.0)\n",
    "df_people['incident_shot'] = df_people.incident_shot.replace(4.0, 1.0)\n",
    "df_people['incident_shot'] = df_people.incident_shot.replace(5.0, 1.0)"
   ]
  },
  {
   "cell_type": "code",
   "execution_count": 57,
   "metadata": {},
   "outputs": [],
   "source": [
    "#deletes duplicates for standoff column\n",
    "df_people['incident_standoff'] = df_people.incident_standoff.replace(2.0, 1.0)"
   ]
  },
  {
   "cell_type": "code",
   "execution_count": 58,
   "metadata": {},
   "outputs": [],
   "source": [
    "#deletes duplicates for suicide column\n",
    "df_people['incident_suicide'] = df_people.incident_suicide.replace(2.0, 1.0)\n",
    "df_people['incident_suicide'] = df_people.incident_suicide.replace(3.0, 1.0)\n",
    "df_people['incident_suicide'] = df_people.incident_suicide.replace(4.0, 1.0)\n",
    "df_people['incident_suicide'] = df_people.incident_suicide.replace(5.0, 1.0)"
   ]
  },
  {
   "cell_type": "code",
   "execution_count": 59,
   "metadata": {},
   "outputs": [],
   "source": [
    "#deletes duplicates for murdersuicide column\n",
    "df_people['incident_murdersuicide'] = df_people.incident_murdersuicide.replace(2.0, 1.0)"
   ]
  },
  {
   "cell_type": "code",
   "execution_count": 60,
   "metadata": {},
   "outputs": [],
   "source": [
    "#deletes duplicates for accident column\n",
    "df_people['incident_accident'] = df_people.incident_accident.replace(2.0, 1.0)\n",
    "df_people['incident_accident'] = df_people.incident_accident.replace(3.0, 1.0)\n",
    "df_people['incident_accident'] = df_people.incident_accident.replace(4.0, 1.0)\n",
    "df_people['incident_accident'] = df_people.incident_accident.replace(5.0, 1.0)\n",
    "df_people['incident_accident'] = df_people.incident_accident.replace(6.0, 1.0)"
   ]
  },
  {
   "cell_type": "code",
   "execution_count": 61,
   "metadata": {},
   "outputs": [],
   "source": [
    "#deletes duplicates for homeinvasion column\n",
    "df_people['incident_homeinvasion'] = df_people.incident_homeinvasion.replace(2.0, 1.0)\n",
    "df_people['incident_homeinvasion'] = df_people.incident_homeinvasion.replace(3.0, 1.0)\n",
    "df_people['incident_homeinvasion'] = df_people.incident_homeinvasion.replace(4.0, 1.0)\n",
    "df_people['incident_homeinvasion'] = df_people.incident_homeinvasion.replace(5.0, 1.0)"
   ]
  },
  {
   "cell_type": "code",
   "execution_count": 62,
   "metadata": {},
   "outputs": [],
   "source": [
    "#deletes duplicates for school column\n",
    "df_people['incident_school'] = df_people.incident_school.replace(2.0, 1.0)\n",
    "df_people['incident_school'] = df_people.incident_school.replace(3.0, 1.0)\n",
    "df_people['incident_school'] = df_people.incident_school.replace(4.0, 1.0)\n",
    "df_people['incident_school'] = df_people.incident_school.replace(5.0, 1.0)"
   ]
  },
  {
   "cell_type": "code",
   "execution_count": 63,
   "metadata": {},
   "outputs": [],
   "source": [
    "#deletes duplicates for defensive column\n",
    "df_people['incident_defensive'] = df_people.incident_defensive.replace(2.0, 1.0)\n",
    "df_people['incident_defensive'] = df_people.incident_defensive.replace(3.0, 1.0)\n",
    "df_people['incident_defensive'] = df_people.incident_defensive.replace(4.0, 1.0)\n",
    "df_people['incident_defensive'] = df_people.incident_defensive.replace(5.0, 1.0)"
   ]
  },
  {
   "cell_type": "code",
   "execution_count": 64,
   "metadata": {},
   "outputs": [],
   "source": [
    "#aggregates columns with overlap in armed robbery\n",
    "df_people['gun_shop'] = df_people.incident_characteristics.str.count('gun shop robbery')\n",
    "df_people['incident_armed_robbery'] = df_people.incident_characteristics.str.count('armed robbery')\n",
    "#adds columns\n",
    "df_people['incident_armed_robbery'] = df_people['incident_armed_robbery'] + df_people['gun_shop']\n",
    "#deletes duplicates\n",
    "df_people['incident_armed_robbery'] = df_people.incident_armed_robbery.replace(2.0, 1.0)\n",
    "#drops interim column\n",
    "df_people.drop(columns=['gun_shop'], inplace=True)"
   ]
  },
  {
   "cell_type": "code",
   "execution_count": 65,
   "metadata": {},
   "outputs": [],
   "source": [
    "#aggregates columns with overlap in drugs/alcohol\n",
    "df_people['drug_involvement'] = df_people.incident_characteristics.str.count('drug involvement')\n",
    "df_people['involved_drug_alcohol'] = df_people.incident_characteristics.str.count('alcohol or drugs')\n",
    "#adds columns\n",
    "df_people['involved_drug_alcohol'] = df_people['involved_drug_alcohol'] + df_people['drug_involvement']\n",
    "#replaces duplicates\n",
    "df_people['involved_drug_alcohol'] = df_people.involved_drug_alcohol.replace(2.0, 1.0)\n",
    "#drops interim column\n",
    "df_people.drop(columns=['drug_involvement'], inplace=True)"
   ]
  },
  {
   "cell_type": "code",
   "execution_count": 66,
   "metadata": {},
   "outputs": [],
   "source": [
    "#aggregates columns with overlap in institution\n",
    "df_people['bar'] = df_people.incident_characteristics.str.count('bar/club')\n",
    "df_people['gun_range'] = df_people.incident_characteristics.str.count('gun range/gun shop')\n",
    "df_people['house_party'] = df_people.incident_characteristics.str.count('house party')\n",
    "df_people['incident_institution'] = df_people.incident_characteristics.str.count('institution/group/business')\n",
    "#adds columns\n",
    "df_people['incident_institution'] = df_people['incident_institution'] + df_people['bar'] + df_people['gun_range'] + df_people['house_party']\n",
    "#replaces duplicates\n",
    "df_people['incident_institution'] = df_people.incident_institution.replace(2.0, 1.0)\n",
    "df_people['incident_institution'] = df_people.incident_institution.replace(3.0, 1.0)\n",
    "#drops interim column\n",
    "df_people.drop(columns=['bar', 'gun_range', 'house_party'], inplace=True)"
   ]
  },
  {
   "cell_type": "code",
   "execution_count": 67,
   "metadata": {},
   "outputs": [],
   "source": [
    "#changes datatype\n",
    "df_people['incident_shot'] = df_people['incident_shot'].astype(object)\n",
    "df_people['incident_driveby'] = df_people['incident_driveby'].astype(object)\n",
    "df_people['incident_tsa'] = df_people['incident_tsa'].astype(object)\n",
    "df_people['incident_nonshooting'] = df_people['incident_nonshooting'].astype(object)\n",
    "df_people['incident_domestic'] = df_people['incident_domestic'].astype(object)\n",
    "df_people['incident_standoff'] = df_people['incident_standoff'].astype(object)\n",
    "df_people['incident_gang'] = df_people['incident_gang'].astype(object)\n",
    "df_people['incident_carjacking'] = df_people['incident_carjacking'].astype(object)\n",
    "df_people['incident_suicide'] = df_people['incident_suicide'].astype(object)\n",
    "df_people['incident_murdersuicide'] = df_people['incident_murdersuicide'].astype(object)\n",
    "df_people['incident_accident'] = df_people['incident_accident'].astype(object)\n",
    "df_people['incident_homeinvasion'] = df_people['incident_homeinvasion'].astype(object)\n",
    "df_people['incident_school'] = df_people['incident_school'].astype(object)\n",
    "df_people['incident_massshooting'] = df_people['incident_massshooting'].astype(object)\n",
    "df_people['incident_animal'] = df_people['incident_animal'].astype(object)\n",
    "df_people['incident_roadrage'] = df_people['incident_roadrage'].astype(object)\n",
    "df_people['involved_child'] = df_people['involved_child'].astype(object)\n",
    "df_people['incident_abduction'] = df_people['incident_abduction'].astype(object)\n",
    "df_people['incident_defensive'] = df_people['incident_defensive'].astype(object)\n",
    "df_people['incident_sexcrime'] = df_people['incident_sexcrime'].astype(object)\n",
    "df_people['incident_spree'] = df_people['incident_spree'].astype(object)\n",
    "df_people['incident_hatecrime'] = df_people['incident_hatecrime'].astype(object)\n",
    "df_people['incident_policetarget'] = df_people['incident_policetarget'].astype(object)\n",
    "df_people['involved_drug_alcohol'] = df_people['involved_drug_alcohol'].astype(object)\n",
    "df_gun['ghostgun'] = df_gun['ghostgun'].astype(object)"
   ]
  },
  {
   "cell_type": "markdown",
   "metadata": {},
   "source": [
    "#### Column fixes - participant_age\n",
    "- Removes extra characters."
   ]
  },
  {
   "cell_type": "code",
   "execution_count": 68,
   "metadata": {},
   "outputs": [],
   "source": [
    "#removes extra characters \n",
    "df_people['participant_age'] = df_people['participant_age'].str.replace('\\d::', '')"
   ]
  },
  {
   "cell_type": "markdown",
   "metadata": {},
   "source": [
    "#### Dropping Columns\n",
    "- Drops unneccessary columns for each df."
   ]
  },
  {
   "cell_type": "code",
   "execution_count": 69,
   "metadata": {},
   "outputs": [],
   "source": [
    "#drops unncessary columns in df_general\n",
    "df_general = df_general[['incident_id', 'date', 'state', 'county', 'city', 'congressional_district', 'incident_url', 'source_url', 'latitude', 'location_description', 'longitude', 'notes', 'sources', 'state_house_district', 'state_senate_district']]"
   ]
  },
  {
   "cell_type": "code",
   "execution_count": 70,
   "metadata": {},
   "outputs": [],
   "source": [
    "#drops unncessary columns in df_people\n",
    "df_people.drop(columns=['date', 'state', 'address', 'city_or_county', 'source_url', 'incident_url', 'gun_stolen', 'gun_type', 'participant_name', 'participant_age_group', 'congressional_district', 'incident_url_fields_missing', 'incident_characteristics', 'latitude', 'location_description', 'longitude', 'n_guns_involved', 'notes', 'sources', 'state_house_district', 'state_senate_district'], inplace=True)"
   ]
  },
  {
   "cell_type": "code",
   "execution_count": 71,
   "metadata": {},
   "outputs": [],
   "source": [
    "#drops unncessary columns in df_gun\n",
    "df_gun = df_gun[['incident_id', 'gun_stolen', 'n_guns_involved', 'gun_handgun', 'gun_shotgun', 'gun_rifle', 'ghostgun']]"
   ]
  },
  {
   "cell_type": "markdown",
   "metadata": {},
   "source": [
    "## Saves to CSV"
   ]
  },
  {
   "cell_type": "code",
   "execution_count": 83,
   "metadata": {},
   "outputs": [],
   "source": [
    "df_general.to_csv('gun_violence_general.csv')\n",
    "df_people.to_csv('gun_violence_people.csv')\n",
    "df_gun.to_csv('gun_violence_gun.csv')"
   ]
  },
  {
   "cell_type": "code",
   "execution_count": 84,
   "metadata": {},
   "outputs": [
    {
     "data": {
      "text/plain": [
       "(239677, 18)"
      ]
     },
     "execution_count": 84,
     "metadata": {},
     "output_type": "execute_result"
    }
   ],
   "source": [
    "df_general.shape"
   ]
  },
  {
   "cell_type": "markdown",
   "metadata": {},
   "source": [
    "### References for Wrangling\n",
    "- https://stackoverflow.com/questions/25146121/extracting-just-month-and-year-from-pandas-datetime-column-python\n",
    "- https://pandas.pydata.org/pandas-docs/stable/generated/pandas.to_datetime.html\n",
    "- https://stackoverflow.com/questions/48094854/python-convert-object-to-float\n",
    "- https://stackoverflow.com/questions/21291259/convert-floats-to-ints-in-pandas\n",
    "- https://pandas.pydata.org/pandas-docs/stable/generated/pandas.DataFrame.drop.html\n",
    "- https://www.reddit.com/r/learnpython/comments/4zn20y/how_to_convert_sparse_pandas_dataframe_with_nan/?st=jlyfe2zc&sh=7172d3e9\n",
    "- https://stackoverflow.com/questions/41550746/error-using-astype-when-nan-exists-in-a-dataframe\n",
    "- https://chrisalbon.com/python/data_wrangling/pandas_replace_values/\n",
    "- https://pandas.pydata.org/pandas-docs/stable/generated/pandas.DataFrame.to_csv.html\n",
    "- https://stackoverflow.com/questions/39768547/replace-whole-string-if-it-contains-substring-in-pandas\n",
    "- https://pandas.pydata.org/pandas-docs/stable/generated/pandas.Series.str.contains.html\n",
    "- https://stackoverflow.com/questions/11346283/renaming-columns-in-pandas\n",
    "- https://stackoverflow.com/questions/22520932/python-remove-all-non-alphabet-chars-from-string/22521156\n",
    "- https://pandas.pydata.org/pandas-docs/stable/generated/pandas.DataFrame.any.html\n",
    "- https://pandas.pydata.org/pandas-docs/version/0.18/generated/pandas.Series.str.contains.html\n",
    "- https://stackoverflow.com/questions/42082385/pandas-slicing-selecting-with-multiple-conditions-with-or-statement\n",
    "- https://stackoverflow.com/questions/22086116/how-do-you-filter-pandas-dataframes-by-multiple-columns\n",
    "- https://stackoverflow.com/questions/27236275/what-does-valueerror-cannot-reindex-from-a-duplicate-axis-mean\n",
    "- https://stackoverflow.com/questions/42152910/pandas-counting-quantity-of-commas-in-character-field\n",
    "- https://stackoverflow.com/questions/27975069/how-to-filter-rows-containing-a-string-pattern-from-a-pandas-dataframe\n",
    "- https://stackoverflow.com/questions/36362432/pandas-refer-to-column-name-case-insensitive\n",
    "- https://chrisalbon.com/python/data_wrangling/pandas_regex_to_create_columns/\n",
    "- https://stackoverflow.com/questions/41679687/pandas-searching-for-a-character-in-a-dataframe\n",
    "- https://stackoverflow.com/questions/13682044/pandas-dataframe-remove-unwanted-parts-from-strings-in-a-column\n",
    "- http://songhuiming.github.io/pages/2017/04/02/jupyter-and-pandas-display/\n",
    "- https://pandas.pydata.org/pandas-docs/stable/generated/pandas.DataFrame.replace.html\n",
    "- https://stackoverflow.com/questions/22573121/splice-a-string-based-on-certain-characters\n",
    "- https://stackoverflow.com/questions/43768023/remove-characters-from-pandas-column\n",
    "- https://stackoverflow.com/questions/29523254/python-remove-stop-words-from-pandas-dataframe\n",
    "- https://stackoverflow.com/questions/45447848/check-for-words-from-list-and-remove-those-words-in-pandas-dataframe-column\n",
    "- https://www.w3schools.com/python/python_lists.asp\n",
    "- https://stackoverflow.com/questions/14940743/selecting-excluding-sets-of-columns-in-pandas\n",
    "- https://stackoverflow.com/questions/3559559/how-to-delete-a-character-from-a-string-using-python"
   ]
  },
  {
   "cell_type": "code",
   "execution_count": null,
   "metadata": {},
   "outputs": [],
   "source": []
  }
 ],
 "metadata": {
  "kernelspec": {
   "display_name": "Python [default]",
   "language": "python",
   "name": "python3"
  },
  "language_info": {
   "codemirror_mode": {
    "name": "ipython",
    "version": 3
   },
   "file_extension": ".py",
   "mimetype": "text/x-python",
   "name": "python",
   "nbconvert_exporter": "python",
   "pygments_lexer": "ipython3",
   "version": "3.6.4"
  }
 },
 "nbformat": 4,
 "nbformat_minor": 2
}
